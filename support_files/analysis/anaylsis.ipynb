{
 "cells": [
  {
   "cell_type": "markdown",
   "metadata": {},
   "source": [
    "Analysis of Estimation Error\n",
    "=======================\n",
    "\n",
    "**Requirements**:\n",
    "- The [evo](https://github.com/MichaelGrupp/evo) Python package\n",
    "    - Can be installed with `pip2 install evo -U --user`\n",
    "    - Be sure that [this](https://github.com/MichaelGrupp/evo/pull/115) PR has been incorporated. If not, install `evo` from source so those changes are included.\n",
    "- Python 2 kernel (for `import rosbag`)\n",
    "- make sure you enabled interactive widgets via:\n",
    "    ```\n",
    "    jupyter nbextension enable --py widgetsnbextension\n",
    "    ```\n",
    "- rosbags with the `/vins_estimator/odometry` topic recorded\n",
    "\n",
    "*Based on evo's [`metrics_interactive`](https://github.com/MichaelGrupp/evo/tree/master/notebooks) notebook for interactive widgets.*"
   ]
  },
  {
   "cell_type": "code",
   "execution_count": null,
   "metadata": {},
   "outputs": [],
   "source": [
    "from __future__ import print_function\n",
    "\n",
    "from evo.tools import log\n",
    "log.configure_logging()"
   ]
  },
  {
   "cell_type": "code",
   "execution_count": null,
   "metadata": {},
   "outputs": [],
   "source": [
    "from evo.tools import plot\n",
    "from evo.tools.plot import PlotMode\n",
    "from evo.core.metrics import PoseRelation, Unit\n",
    "from evo.tools.settings import SETTINGS\n",
    "\n",
    "# temporarily override some package settings\n",
    "SETTINGS.plot_figsize = [6, 6]\n",
    "SETTINGS.plot_split = True\n",
    "SETTINGS.plot_usetex = False\n",
    "\n",
    "# magic plot configuration\n",
    "import matplotlib.pyplot as plt\n",
    "%matplotlib inline\n",
    "%matplotlib notebook"
   ]
  },
  {
   "cell_type": "code",
   "execution_count": null,
   "metadata": {},
   "outputs": [],
   "source": [
    "# interactive widgets configuration\n",
    "import ipywidgets\n",
    "\n",
    "check_opts_ape = {\"align\": True, \"correct_scale\": False, \"show_plot\": True}\n",
    "check_boxes_ape=[ipywidgets.Checkbox(description=desc, value=val) for desc, val in check_opts_ape.items()]\n",
    "check_opts_rpe = {\"align\": True, \"correct_scale\": False, \"all_pairs\": False, \"show_plot\": True}\n",
    "check_boxes_rpe=[ipywidgets.Checkbox(description=desc, value=val) for desc, val in check_opts_rpe.items()]\n",
    "delta_input = ipywidgets.FloatText(value=1.0, description='delta', disabled=False, color='black')\n",
    "du_selector=ipywidgets.Dropdown(\n",
    "    options={u.value: u for u in Unit},\n",
    "    value=Unit.frames, description='delta_unit'\n",
    ")\n",
    "pm_selector=ipywidgets.Dropdown(\n",
    "    options={p.value: p for p in PlotMode},\n",
    "    value=PlotMode.xy, description='plot_mode'\n",
    ")\n",
    "pr_selector=ipywidgets.Dropdown(\n",
    "    options={p.value: p for p in PoseRelation},\n",
    "    value=PoseRelation.translation_part, description='pose_relation'\n",
    ")"
   ]
  },
  {
   "cell_type": "markdown",
   "metadata": {},
   "source": [
    "## Load Trajectories\n",
    "\n",
    "Default setup for [EuRoC](https://projects.asl.ethz.ch/datasets/doku.php?id=kmavvisualinertialdatasets) datasets."
   ]
  },
  {
   "cell_type": "code",
   "execution_count": null,
   "metadata": {},
   "outputs": [],
   "source": [
    "# Use the CSVs included in the VINS-Mono repo for ground truth\n",
    "traj_ref_csv = \"../../benchmark_publisher/config/MH_01_easy/data.csv\"\n",
    "\n",
    "# Point to ROS bag (with `/vins_estimator/odometry` topic) of VINS-Mono output\n",
    "traj_est_bag = \"anticipated-eurocMH1.bag\" # attention and anticipation\n",
    "# traj_est_bag = \"vinsmono-eurocMH1.bag\" # no attention and anticipation"
   ]
  },
  {
   "cell_type": "code",
   "execution_count": null,
   "metadata": {},
   "outputs": [],
   "source": [
    "import rosbag\n",
    "from evo.tools import file_interface\n",
    "from evo.core import sync\n",
    "    \n",
    "# attempt to load output (using algorithm)\n",
    "bag_handle = rosbag.Bag(traj_est_bag)\n",
    "traj_est = file_interface.read_bag_trajectory(bag_handle, \"/vins_estimator/odometry\")\n",
    "\n",
    "# load ground truth\n",
    "traj_ref = file_interface.read_euroc_csv_trajectory(traj_ref_csv)\n",
    "\n",
    "# time sync the trajectories\n",
    "traj_ref, traj_est = sync.associate_trajectories(traj_ref, traj_est)"
   ]
  },
  {
   "cell_type": "code",
   "execution_count": null,
   "metadata": {},
   "outputs": [],
   "source": [
    "print(traj_ref)\n",
    "print(traj_est)"
   ]
  },
  {
   "cell_type": "markdown",
   "metadata": {},
   "source": [
    "## Absolute Pose Error (APE)\n",
    "\n",
    "Also known as *Absolute Trajectory Error* (ATE)."
   ]
  },
  {
   "cell_type": "code",
   "execution_count": null,
   "metadata": {},
   "outputs": [],
   "source": [
    "import evo.main_ape as main_ape\n",
    "import evo.common_ape_rpe as common\n",
    "\n",
    "count = 0\n",
    "results = []\n",
    "\n",
    "def callback_ape(pose_relation, align, correct_scale, plot_mode, show_plot):\n",
    "    global results, count\n",
    "    est_name=\"APE Test #{}\".format(count)\n",
    "    \n",
    "    result = main_ape.ape(traj_ref, traj_est, est_name=est_name,\n",
    "                          pose_relation=pose_relation, align=align, correct_scale=correct_scale)\n",
    "    count += 1\n",
    "    results.append(result)\n",
    "    \n",
    "    if show_plot:\n",
    "        fig = plt.figure()\n",
    "        ax = plot.prepare_axis(fig, plot_mode)\n",
    "        plot.traj(ax, plot_mode, traj_ref, style=\"--\", alpha=0.5)\n",
    "        plot.traj_colormap(\n",
    "            ax, result.trajectories[est_name], result.np_arrays[\"error_array\"], plot_mode,\n",
    "            min_map=result.stats[\"min\"], max_map=result.stats[\"max\"])\n",
    "\n",
    "_ = ipywidgets.interact_manual(callback_ape, pose_relation=pr_selector, plot_mode=pm_selector,\n",
    "                               **{c.description: c.value for c in check_boxes_ape})"
   ]
  },
  {
   "cell_type": "markdown",
   "metadata": {},
   "source": [
    "## Relative Pose Error (RPE)\n",
    "\n",
    "Also known as *Relative Trajectory Error* (RTE)."
   ]
  },
  {
   "cell_type": "code",
   "execution_count": null,
   "metadata": {},
   "outputs": [],
   "source": [
    "import evo.main_rpe as main_rpe\n",
    "\n",
    "count = 0\n",
    "results = []\n",
    "\n",
    "def callback_rpe(pose_relation, delta, delta_unit, all_pairs, align, correct_scale, plot_mode, show_plot):\n",
    "    global results, count\n",
    "    est_name=\"RPE Test #{}\".format(count)\n",
    "    result = main_rpe.rpe(traj_ref, traj_est, est_name=est_name,\n",
    "                          pose_relation=pose_relation, delta=delta, delta_unit=delta_unit, \n",
    "                          all_pairs=all_pairs, align=align, correct_scale=correct_scale, \n",
    "                          support_loop=True)\n",
    "    count += 1\n",
    "    results.append(result)\n",
    "    \n",
    "    if show_plot:\n",
    "        fig = plt.figure()\n",
    "        ax = plot.prepare_axis(fig, plot_mode)\n",
    "        plot.traj(ax, plot_mode, traj_ref, style=\"--\", alpha=0.5)\n",
    "        plot.traj_colormap(\n",
    "            ax, result.trajectories[est_name], result.np_arrays[\"error_array\"], plot_mode,\n",
    "            min_map=result.stats[\"min\"], max_map=result.stats[\"max\"])\n",
    "\n",
    "_ = ipywidgets.interact_manual(callback_rpe, pose_relation=pr_selector, plot_mode=pm_selector, \n",
    "                               delta=delta_input, delta_unit=du_selector, \n",
    "                               **{c.description: c.value for c in check_boxes_rpe})"
   ]
  }
 ],
 "metadata": {
  "kernelspec": {
   "display_name": "Python 2",
   "language": "python",
   "name": "python2"
  },
  "language_info": {
   "codemirror_mode": {
    "name": "ipython",
    "version": 2
   },
   "file_extension": ".py",
   "mimetype": "text/x-python",
   "name": "python",
   "nbconvert_exporter": "python",
   "pygments_lexer": "ipython2",
   "version": "2.7.12"
  }
 },
 "nbformat": 4,
 "nbformat_minor": 2
}
